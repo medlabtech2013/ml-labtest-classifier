{
 "cells": [
  {
   "cell_type": "code",
   "execution_count": null,
   "id": "185aa32b-9346-41c4-ab44-dae1343b3683",
   "metadata": {},
   "outputs": [],
   "source": [
    "import pandas as pd\n",
    "\n",
    "# Load the dataset\n",
    "df = pd.read_csv(\"../data/lab_test_data.csv\")\n",
    "\n",
    "# Show first few rows\n",
    "df.head()\n"
   ]
  },
  {
   "cell_type": "code",
   "execution_count": null,
   "id": "81ae5482-fa1b-43ee-baa2-2695b0f8e8b0",
   "metadata": {},
   "outputs": [],
   "source": [
    "# Summary info\n",
    "df.info()\n",
    "\n",
    "# Statistical summary\n",
    "df.describe()\n"
   ]
  },
  {
   "cell_type": "code",
   "execution_count": null,
   "id": "aa4e14d3-20fe-4001-a5c6-367cffcb7765",
   "metadata": {},
   "outputs": [],
   "source": [
    "import seaborn as sns\n",
    "import matplotlib.pyplot as plt\n",
    "\n",
    "# Plot test_result distribution\n",
    "sns.countplot(x=\"test_result\", data=df)\n",
    "plt.title(\"Distribution of Lab Test Results\")\n",
    "plt.xlabel(\"Result\")\n",
    "plt.ylabel(\"Count\")\n",
    "plt.show()\n"
   ]
  },
  {
   "cell_type": "code",
   "execution_count": null,
   "id": "f83ca208-d715-46d1-9db9-f8137b755de8",
   "metadata": {},
   "outputs": [],
   "source": [
    "# Glucose distribution by result\n",
    "sns.boxplot(x=\"test_result\", y=\"glucose\", data=df)\n",
    "plt.title(\"Glucose Levels by Test Result\")\n",
    "plt.show()\n",
    "\n",
    "# Cholesterol distribution by result\n",
    "sns.boxplot(x=\"test_result\", y=\"cholesterol\", data=df)\n",
    "plt.title(\"Cholesterol Levels by Test Result\")\n",
    "plt.show()\n"
   ]
  },
  {
   "cell_type": "code",
   "execution_count": null,
   "id": "b51120bf-e097-4fdc-a129-f8cf05d43dee",
   "metadata": {},
   "outputs": [],
   "source": [
    "df[\"gender\"].value_counts()\n"
   ]
  }
 ],
 "metadata": {
  "kernelspec": {
   "display_name": "Python (mclassifier-env)",
   "language": "python",
   "name": "classifier-env"
  },
  "language_info": {
   "codemirror_mode": {
    "name": "ipython",
    "version": 3
   },
   "file_extension": ".py",
   "mimetype": "text/x-python",
   "name": "python",
   "nbconvert_exporter": "python",
   "pygments_lexer": "ipython3",
   "version": "3.11.9"
  }
 },
 "nbformat": 4,
 "nbformat_minor": 5
}
