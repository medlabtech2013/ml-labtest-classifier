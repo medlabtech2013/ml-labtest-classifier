{
 "cells": [
  {
   "cell_type": "code",
   "execution_count": 1,
   "id": "4a0fcfda-88b0-4518-9a63-5c0a1e4a6e36",
   "metadata": {},
   "outputs": [],
   "source": [
    "import pandas as pd\n",
    "import numpy as np\n"
   ]
  },
  {
   "cell_type": "code",
   "execution_count": null,
   "id": "07aaafda-c0a1-417e-a4b0-d02018324431",
   "metadata": {},
   "outputs": [],
   "source": [
    "# Set random seed for reproducibility\n",
    "np.random.seed(42)\n",
    "\n",
    "# Generate fake lab data\n",
    "n_samples = 500\n",
    "df = pd.DataFrame({\n",
    "    \"age\": np.random.randint(18, 90, n_samples),\n",
    "    \"gender\": np.random.choice([\"M\", \"F\"], n_samples),\n",
    "    \"glucose\": np.random.normal(100, 15, n_samples),\n",
    "    \"cholesterol\": np.random.normal(180, 30, n_samples),\n",
    "    \"test_result\": np.random.choice([\"Normal\", \"Abnormal\"], n_samples, p=[0.7, 0.3])\n",
    "})\n",
    "\n",
    "# Show the first few rows\n",
    "df.head()\n"
   ]
  },
  {
   "cell_type": "code",
   "execution_count": null,
   "id": "097fdb4e-ad26-4e47-a320-5aee044edc03",
   "metadata": {},
   "outputs": [],
   "source": [
    "# Save to CSV file in the data folder\n",
    "df.to_csv(\"../data/lab_test_data.csv\", index=False)\n",
    "print(\"✅ Dataset saved to ../data/lab_test_data.csv\")\n"
   ]
  }
 ],
 "metadata": {
  "kernelspec": {
   "display_name": "Python (mclassifier-env)",
   "language": "python",
   "name": "classifier-env"
  },
  "language_info": {
   "codemirror_mode": {
    "name": "ipython",
    "version": 3
   },
   "file_extension": ".py",
   "mimetype": "text/x-python",
   "name": "python",
   "nbconvert_exporter": "python",
   "pygments_lexer": "ipython3",
   "version": "3.11.9"
  }
 },
 "nbformat": 4,
 "nbformat_minor": 5
}
